{
 "cells": [
  {
   "cell_type": "markdown",
   "metadata": {},
   "source": [
    "Метод опорных векторов"
   ]
  },
  {
   "cell_type": "code",
   "execution_count": 1,
   "metadata": {},
   "outputs": [],
   "source": [
    "import pandas as pd\n",
    "import numpy as np\n",
    "import matplotlib.pyplot as plt\n",
    "from sklearn.feature_extraction.text import TfidfVectorizer\n",
    "from sklearn.model_selection import KFold, GridSearchCV\n",
    "from sklearn.svm import SVC\n",
    "from sklearn.metrics import classification_report, roc_curve, roc_auc_score\n",
    "from sklearn.datasets import fetch_20newsgroups\n",
    "\n",
    "%matplotlib inline"
   ]
  },
  {
   "cell_type": "code",
   "execution_count": 2,
   "metadata": {},
   "outputs": [
    {
     "data": {
      "text/plain": [
       "['alt.atheism',\n",
       " 'comp.graphics',\n",
       " 'comp.os.ms-windows.misc',\n",
       " 'comp.sys.ibm.pc.hardware',\n",
       " 'comp.sys.mac.hardware',\n",
       " 'comp.windows.x',\n",
       " 'misc.forsale',\n",
       " 'rec.autos',\n",
       " 'rec.motorcycles',\n",
       " 'rec.sport.baseball',\n",
       " 'rec.sport.hockey',\n",
       " 'sci.crypt',\n",
       " 'sci.electronics',\n",
       " 'sci.med',\n",
       " 'sci.space',\n",
       " 'soc.religion.christian',\n",
       " 'talk.politics.guns',\n",
       " 'talk.politics.mideast',\n",
       " 'talk.politics.misc',\n",
       " 'talk.religion.misc']"
      ]
     },
     "execution_count": 2,
     "metadata": {},
     "output_type": "execute_result"
    }
   ],
   "source": [
    "data = fetch_20newsgroups()\n",
    "data.target_names"
   ]
  },
  {
   "cell_type": "code",
   "execution_count": 5,
   "metadata": {},
   "outputs": [],
   "source": [
    "categories = [\"comp.sys.mac.hardware\", \"rec.sport.baseball\", \"sci.space\", \"talk.religion.misc\"]\n",
    "data_train = fetch_20newsgroups(subset=\"train\", remove=(\"headers\", \"footers\", \"quotes\"), categories=categories)\n",
    "\n",
    "vectorizer = TfidfVectorizer(stop_words=\"english\")\n",
    "vectors_train = vectorizer.fit_transform(data_train.data)"
   ]
  },
  {
   "cell_type": "code",
   "execution_count": 6,
   "metadata": {},
   "outputs": [
    {
     "data": {
      "text/plain": [
       "{'C': 1.0, 'kernel': 'linear'}"
      ]
     },
     "execution_count": 6,
     "metadata": {},
     "output_type": "execute_result"
    }
   ],
   "source": [
    "cv = KFold(n_splits=10)\n",
    "params = {\"kernel\": [\"linear\"], \"C\": np.power(10.0, np.arange(-5, 6))}\n",
    "gscv = GridSearchCV(SVC(), params, scoring=\"accuracy\", cv=cv)\n",
    "gscv.fit(vectors_train, data_train.target)\n",
    "gscv.best_params_"
   ]
  },
  {
   "cell_type": "code",
   "execution_count": 7,
   "metadata": {},
   "outputs": [],
   "source": [
    "data_test = fetch_20newsgroups(subset=\"test\", remove=(\"headers\", \"footers\", \"quotes\"), categories=categories)\n",
    "vectors_test = vectorizer.transform(data_test.data)\n",
    "\n",
    "svc_best = gscv.best_estimator_\n",
    "y_pred = svc_best.predict(vectors_test)"
   ]
  },
  {
   "cell_type": "code",
   "execution_count": 8,
   "metadata": {},
   "outputs": [
    {
     "name": "stdout",
     "output_type": "stream",
     "text": [
      "['scsi', 'monitor', 'mouse', 'team', 'problem', 'se', 'drive', 'apple', 'baseball', 'mac']\n"
     ]
    }
   ],
   "source": [
    "all_idx = np.argsort(np.absolute(svc_best.coef_.toarray()))\n",
    "idx = np.array(all_idx[0,-10:])\n",
    "print(np.array(vectorizer.get_feature_names())[idx].tolist())"
   ]
  },
  {
   "cell_type": "markdown",
   "metadata": {},
   "source": [
    "Логистическая регрессия"
   ]
  },
  {
   "cell_type": "code",
   "execution_count": 15,
   "metadata": {},
   "outputs": [],
   "source": [
    "from sklearn.model_selection import train_test_split\n",
    "from sklearn.linear_model import LogisticRegression"
   ]
  },
  {
   "cell_type": "code",
   "execution_count": 10,
   "metadata": {},
   "outputs": [
    {
     "data": {
      "text/html": [
       "<div>\n",
       "<style scoped>\n",
       "    .dataframe tbody tr th:only-of-type {\n",
       "        vertical-align: middle;\n",
       "    }\n",
       "\n",
       "    .dataframe tbody tr th {\n",
       "        vertical-align: top;\n",
       "    }\n",
       "\n",
       "    .dataframe thead th {\n",
       "        text-align: right;\n",
       "    }\n",
       "</style>\n",
       "<table border=\"1\" class=\"dataframe\">\n",
       "  <thead>\n",
       "    <tr style=\"text-align: right;\">\n",
       "      <th></th>\n",
       "      <th>variance of images</th>\n",
       "      <th>skewness of images</th>\n",
       "      <th>curtosis of images</th>\n",
       "      <th>entropy of images</th>\n",
       "      <th>class</th>\n",
       "    </tr>\n",
       "  </thead>\n",
       "  <tbody>\n",
       "    <tr>\n",
       "      <th>425</th>\n",
       "      <td>1.74200</td>\n",
       "      <td>-4.8090</td>\n",
       "      <td>8.214200</td>\n",
       "      <td>-2.065900</td>\n",
       "      <td>0</td>\n",
       "    </tr>\n",
       "    <tr>\n",
       "      <th>237</th>\n",
       "      <td>3.89050</td>\n",
       "      <td>-2.1521</td>\n",
       "      <td>2.630200</td>\n",
       "      <td>1.104700</td>\n",
       "      <td>0</td>\n",
       "    </tr>\n",
       "    <tr>\n",
       "      <th>543</th>\n",
       "      <td>-1.42170</td>\n",
       "      <td>11.6542</td>\n",
       "      <td>-0.057699</td>\n",
       "      <td>-7.102500</td>\n",
       "      <td>0</td>\n",
       "    </tr>\n",
       "    <tr>\n",
       "      <th>1295</th>\n",
       "      <td>-4.94470</td>\n",
       "      <td>3.3005</td>\n",
       "      <td>1.063000</td>\n",
       "      <td>-1.444000</td>\n",
       "      <td>1</td>\n",
       "    </tr>\n",
       "    <tr>\n",
       "      <th>665</th>\n",
       "      <td>1.83730</td>\n",
       "      <td>6.1292</td>\n",
       "      <td>0.840270</td>\n",
       "      <td>0.552570</td>\n",
       "      <td>0</td>\n",
       "    </tr>\n",
       "    <tr>\n",
       "      <th>1213</th>\n",
       "      <td>-2.62000</td>\n",
       "      <td>-6.8555</td>\n",
       "      <td>6.216900</td>\n",
       "      <td>-0.622850</td>\n",
       "      <td>1</td>\n",
       "    </tr>\n",
       "    <tr>\n",
       "      <th>801</th>\n",
       "      <td>-0.91318</td>\n",
       "      <td>-2.0113</td>\n",
       "      <td>-0.195650</td>\n",
       "      <td>0.066365</td>\n",
       "      <td>1</td>\n",
       "    </tr>\n",
       "    <tr>\n",
       "      <th>921</th>\n",
       "      <td>-2.88330</td>\n",
       "      <td>1.7713</td>\n",
       "      <td>0.689460</td>\n",
       "      <td>-0.463800</td>\n",
       "      <td>1</td>\n",
       "    </tr>\n",
       "    <tr>\n",
       "      <th>751</th>\n",
       "      <td>2.25460</td>\n",
       "      <td>8.0992</td>\n",
       "      <td>-0.248770</td>\n",
       "      <td>-3.269800</td>\n",
       "      <td>0</td>\n",
       "    </tr>\n",
       "    <tr>\n",
       "      <th>262</th>\n",
       "      <td>1.81140</td>\n",
       "      <td>7.6067</td>\n",
       "      <td>-0.978800</td>\n",
       "      <td>-2.466800</td>\n",
       "      <td>0</td>\n",
       "    </tr>\n",
       "  </tbody>\n",
       "</table>\n",
       "</div>"
      ],
      "text/plain": [
       "      variance of images  skewness of images  curtosis of images  \\\n",
       "425              1.74200             -4.8090            8.214200   \n",
       "237              3.89050             -2.1521            2.630200   \n",
       "543             -1.42170             11.6542           -0.057699   \n",
       "1295            -4.94470              3.3005            1.063000   \n",
       "665              1.83730              6.1292            0.840270   \n",
       "1213            -2.62000             -6.8555            6.216900   \n",
       "801             -0.91318             -2.0113           -0.195650   \n",
       "921             -2.88330              1.7713            0.689460   \n",
       "751              2.25460              8.0992           -0.248770   \n",
       "262              1.81140              7.6067           -0.978800   \n",
       "\n",
       "      entropy of images class  \n",
       "425           -2.065900     0  \n",
       "237            1.104700     0  \n",
       "543           -7.102500     0  \n",
       "1295          -1.444000     1  \n",
       "665            0.552570     0  \n",
       "1213          -0.622850     1  \n",
       "801            0.066365     1  \n",
       "921           -0.463800     1  \n",
       "751           -3.269800     0  \n",
       "262           -2.466800     0  "
      ]
     },
     "execution_count": 10,
     "metadata": {},
     "output_type": "execute_result"
    }
   ],
   "source": [
    "titles = [\"variance of images\", \"skewness of images\", \"curtosis of images\", \"entropy of images\", \"class\"]  \n",
    "data = pd.read_csv('data_banknote_authentication.txt', names=titles)\n",
    "data[\"class\"] = data[\"class\"].astype(\"category\")\n",
    "data.sample(10)"
   ]
  },
  {
   "cell_type": "code",
   "execution_count": 11,
   "metadata": {},
   "outputs": [
    {
     "data": {
      "text/plain": [
       "variance of images    0\n",
       "skewness of images    0\n",
       "curtosis of images    0\n",
       "entropy of images     0\n",
       "class                 0\n",
       "dtype: int64"
      ]
     },
     "execution_count": 11,
     "metadata": {},
     "output_type": "execute_result"
    }
   ],
   "source": [
    "data.isna().sum()"
   ]
  },
  {
   "cell_type": "code",
   "execution_count": 16,
   "metadata": {},
   "outputs": [],
   "source": [
    "X = data.drop(columns=[\"class\"])\n",
    "y = data[\"class\"]\n",
    "\n",
    "X_train, X_test, y_train, y_test = train_test_split(X, y, test_size=0.30, random_state=0)\n",
    "y_pred = LogisticRegression().fit(X_train, y_train).predict(X_test)"
   ]
  },
  {
   "cell_type": "code",
   "execution_count": 17,
   "metadata": {},
   "outputs": [
    {
     "data": {
      "image/png": "[encoded data removed]",
      "text/plain": [
       "<Figure size 432x288 with 1 Axes>"
      ]
     },
     "metadata": {
      "needs_background": "light"
     },
     "output_type": "display_data"
    }
   ],
   "source": [
    "fpr, tpr, _ = roc_curve(y_test, y_pred)\n",
    "auc = roc_auc_score(y_test, y_pred)\n",
    "\n",
    "plt.plot(fpr, tpr)\n",
    "plt.plot([0, 1], [0, 1],'-')\n",
    "plt.show()"
   ]
  },
  {
   "cell_type": "code",
   "execution_count": 18,
   "metadata": {},
   "outputs": [
    {
     "data": {
      "text/plain": [
       "0.9892241379310345"
      ]
     },
     "execution_count": 18,
     "metadata": {},
     "output_type": "execute_result"
    }
   ],
   "source": [
    "auc"
   ]
  }
 ],
 "metadata": {
  "kernelspec": {
   "display_name": "Python 3",
   "language": "python",
   "name": "python3"
  },
  "language_info": {
   "codemirror_mode": {
    "name": "ipython",
    "version": 3
   },
   "file_extension": ".py",
   "mimetype": "text/x-python",
   "name": "python",
   "nbconvert_exporter": "python",
   "pygments_lexer": "ipython3",
   "version": "3.7.6"
  }
 },
 "nbformat": 4,
 "nbformat_minor": 4
}
