{
 "cells": [
  {
   "cell_type": "markdown",
   "metadata": {},
   "source": [
    "# ZDRAVSVUJTE_h1  JA LAB_1"
   ]
  },
  {
   "cell_type": "code",
   "execution_count": 62,
   "metadata": {},
   "outputs": [],
   "source": [
    "import pandas\n",
    "import matplotlib.pyplot as plt\n",
    "import numpy as np \n"
   ]
  },
  {
   "cell_type": "code",
   "execution_count": 81,
   "metadata": {},
   "outputs": [],
   "source": [
    "colNames = pandas.read_csv('names.csv')\n",
    "data = pandas.read_csv('iris.data', names=list(colNames))"
   ]
  },
  {
   "cell_type": "code",
   "execution_count": null,
   "metadata": {},
   "outputs": [],
   "source": []
  },
  {
   "cell_type": "code",
   "execution_count": 86,
   "metadata": {},
   "outputs": [],
   "source": [
    "def getByIndex(index):\n",
    "    global data\n",
    "    return data.loc[index]\n",
    "\n",
    "def getByRowAndCol(row, col):\n",
    "    global data\n",
    "    return data.loc[row,col]\n",
    "\n",
    "def getByColName(colName):\n",
    "    global data\n",
    "    return data.loc[:, colName]"
   ]
  },
  {
   "cell_type": "code",
   "execution_count": 60,
   "metadata": {
    "scrolled": true
   },
   "outputs": [],
   "source": [
    "def getStats():\n",
    "    global data\n",
    "    result = {}\n",
    "    result['max'] = data.max()\n",
    "    result['mean'] = data.mean()\n",
    "    result['min'] = data.min()\n",
    "    return result\n",
    "\n",
    "def getCorr():\n",
    "    global data\n",
    "    return data.corr()"
   ]
  },
  {
   "cell_type": "code",
   "execution_count": 44,
   "metadata": {},
   "outputs": [
    {
     "data": {
      "text/plain": [
       "4.7"
      ]
     },
     "execution_count": 44,
     "metadata": {},
     "output_type": "execute_result"
    }
   ],
   "source": [
    "getByRowAndCol(2,'sepal_length')"
   ]
  },
  {
   "cell_type": "code",
   "execution_count": 58,
   "metadata": {},
   "outputs": [
    {
     "name": "stdout",
     "output_type": "stream",
     "text": [
      "max\n",
      "sepal_length               7.9\n",
      "sepal_width                4.4\n",
      "petal_length               6.9\n",
      "petal_width                2.5\n",
      "class           Iris-virginica\n",
      "dtype: object\n",
      "mean\n",
      "sepal_length    5.843333\n",
      "sepal_width     3.054000\n",
      "petal_length    3.758667\n",
      "petal_width     1.198667\n",
      "dtype: float64\n",
      "min\n",
      "sepal_length            4.3\n",
      "sepal_width               2\n",
      "petal_length              1\n",
      "petal_width             0.1\n",
      "class           Iris-setosa\n",
      "dtype: object\n"
     ]
    }
   ],
   "source": [
    "for i,k in getStats().items():\n",
    "    print(i,k, sep=\"\\n\")"
   ]
  },
  {
   "cell_type": "code",
   "execution_count": 67,
   "metadata": {},
   "outputs": [
    {
     "data": {
      "image/png": "[encoded data removed]",
      "text/plain": [
       "<Figure size 432x288 with 2 Axes>"
      ]
     },
     "metadata": {
      "needs_background": "light"
     },
     "output_type": "display_data"
    }
   ],
   "source": [
    "df = getCorr()\n",
    "plt.pcolor(df)\n",
    "plt.xticks(np.arange(0.5, len(df.index), 1), df.index)\n",
    "plt.yticks(np.arange(0.5, len(df.columns), 1), df.columns)\n",
    "plt.colorbar()\n",
    "plt.show()"
   ]
  },
  {
   "cell_type": "code",
   "execution_count": 90,
   "metadata": {},
   "outputs": [
    {
     "name": "stderr",
     "output_type": "stream",
     "text": [
      "'c' argument looks like a single numeric RGB or RGBA sequence, which should be avoided as value-mapping will have precedence in case its length matches with 'x' & 'y'.  Please use a 2-D array with a single row if you really want to specify the same RGB or RGBA value for all points.\n",
      "'c' argument looks like a single numeric RGB or RGBA sequence, which should be avoided as value-mapping will have precedence in case its length matches with 'x' & 'y'.  Please use a 2-D array with a single row if you really want to specify the same RGB or RGBA value for all points.\n"
     ]
    },
    {
     "data": {
      "image/png": "[encoded data removed]",
      "text/plain": [
       "<Figure size 432x288 with 1 Axes>"
      ]
     },
     "metadata": {
      "needs_background": "light"
     },
     "output_type": "display_data"
    }
   ],
   "source": [
    "# Create data\n",
    "N = 500\n",
    "x = getByColName('petal_width')\n",
    "y = getByColName('petal_length')\n",
    "colors = (1,0,0)\n",
    "area = np.pi*3\n",
    "\n",
    "x2 = getByColName('sepal_width')\n",
    "y2 = getByColName('sepal_length')\n",
    "colors2 = (0,0,1)\n",
    "area = np.pi*3\n",
    "\n",
    "\n",
    "# Plot\n",
    "plt.scatter(x, y, s=area, c=colors, alpha=0.5)\n",
    "plt.scatter(x2,y2, s=area, c=colors2, alpha=0.5)\n",
    "plt.title('Scatter plot pythonspot.com')\n",
    "plt.xlabel('x')\n",
    "plt.ylabel('y')\n",
    "plt.show()"
   ]
  }
 ],
 "metadata": {
  "kernelspec": {
   "display_name": "Python 3",
   "language": "python",
   "name": "python3"
  },
  "language_info": {
   "codemirror_mode": {
    "name": "ipython",
    "version": 3
   },
   "file_extension": ".py",
   "mimetype": "text/x-python",
   "name": "python",
   "nbconvert_exporter": "python",
   "pygments_lexer": "ipython3",
   "version": "3.7.4"
  }
 },
 "nbformat": 4,
 "nbformat_minor": 2
}
