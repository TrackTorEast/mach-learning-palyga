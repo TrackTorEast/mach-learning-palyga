{
 "cells": [
  {
   "cell_type": "markdown",
   "metadata": {},
   "source": [
    "## 15. Лабораторная работа «Решение задач понижения размерности. Метод главных компонент» \n",
    "\n",
    "Dataset: [Dow Jones Index Data Set](https://archive.ics.uci.edu/ml/datasets/Dow+Jones+Index)"
   ]
  },
  {
   "cell_type": "code",
   "execution_count": 9,
   "metadata": {},
   "outputs": [],
   "source": [
    "import numpy as np\n",
    "import pandas as pd\n",
    "import matplotlib.pyplot as plt\n",
    "from sklearn.decomposition import PCA\n",
    "import os\n",
    "import requests\n",
    "\n",
    "%matplotlib inline\n",
    "pd.options.display.max_columns = None"
   ]
  },
  {
   "cell_type": "code",
   "execution_count": 4,
   "metadata": {},
   "outputs": [
    {
     "data": {
      "text/plain": [
       "stock                                 category\n",
       "open                                    object\n",
       "high                                    object\n",
       "low                                     object\n",
       "close                                   object\n",
       "volume                                   int64\n",
       "percent_change_price                   float64\n",
       "percent_change_volume_over_last_wk     float64\n",
       "previous_weeks_volume                  float64\n",
       "next_weeks_open                         object\n",
       "next_weeks_close                        object\n",
       "percent_change_next_weeks_price        float64\n",
       "days_to_next_dividend                    int64\n",
       "percent_return_next_dividend           float64\n",
       "dtype: object"
      ]
     },
     "metadata": {},
     "output_type": "display_data"
    }
   ],
   "source": [
    "data = pd.read_csv(\"dow_jones_index.data\")\n",
    "\n",
    "data = data.astype({\"stock\": \"category\"})\n",
    "data.drop(columns=[\"date\", \"quarter\"], inplace=True)\n",
    "\n",
    "display(data.dtypes)"
   ]
  },
  {
   "cell_type": "code",
   "execution_count": 5,
   "metadata": {},
   "outputs": [
    {
     "data": {
      "text/plain": [
       "stock                                 0\n",
       "open                                  0\n",
       "high                                  0\n",
       "low                                   0\n",
       "close                                 0\n",
       "volume                                0\n",
       "percent_change_price                  0\n",
       "percent_change_volume_over_last_wk    0\n",
       "previous_weeks_volume                 0\n",
       "next_weeks_open                       0\n",
       "next_weeks_close                      0\n",
       "percent_change_next_weeks_price       0\n",
       "days_to_next_dividend                 0\n",
       "percent_return_next_dividend          0\n",
       "dtype: int64"
      ]
     },
     "metadata": {},
     "output_type": "display_data"
    },
    {
     "data": {
      "text/plain": [
       "stock                                 category\n",
       "open                                   float64\n",
       "high                                   float64\n",
       "low                                    float64\n",
       "close                                  float64\n",
       "volume                                   int64\n",
       "percent_change_price                   float64\n",
       "percent_change_volume_over_last_wk     float64\n",
       "previous_weeks_volume                  float64\n",
       "next_weeks_open                        float64\n",
       "next_weeks_close                       float64\n",
       "percent_change_next_weeks_price        float64\n",
       "days_to_next_dividend                    int64\n",
       "percent_return_next_dividend           float64\n",
       "dtype: object"
      ]
     },
     "metadata": {},
     "output_type": "display_data"
    }
   ],
   "source": [
    "for col in [\"open\", \"high\", \"low\", \"close\", \"next_weeks_open\", \"next_weeks_close\"]:\n",
    "    data[col] = data[col].str.replace(\"$\", \"\")\n",
    "    data[col] = data[col].astype(float)\n",
    "for col in [\"percent_change_volume_over_last_wk\", \"previous_weeks_volume\"]:\n",
    "    data[col].fillna(data[col].mode()[0], inplace=True)\n",
    "\n",
    "display(data.isna().sum())\n",
    "display(data.dtypes)"
   ]
  },
  {
   "cell_type": "code",
   "execution_count": 6,
   "metadata": {},
   "outputs": [],
   "source": [
    "n_components=3\n",
    "X = data.drop(columns=[\"stock\"]).copy()\n",
    "\n",
    "pca = PCA(n_components)\n",
    "pca_data = pca.fit_transform(X)"
   ]
  },
  {
   "cell_type": "markdown",
   "metadata": {},
   "source": [
    "Cкольких  компонент хватит, чтобы объяснить 90% дисперси"
   ]
  },
  {
   "cell_type": "code",
   "execution_count": 7,
   "metadata": {},
   "outputs": [
    {
     "data": {
      "text/plain": [
       "'Component 1, variance_ratio: 0.9095995167792658'"
      ]
     },
     "metadata": {},
     "output_type": "display_data"
    }
   ],
   "source": [
    "for i in range(n_components):\n",
    "    variance_ratio = pca.explained_variance_ratio_[i]\n",
    "    if variance_ratio >= 0.9:\n",
    "        display(\"Component {}, variance_ratio: {}\".format(i + 1, variance_ratio))"
   ]
  },
  {
   "cell_type": "markdown",
   "metadata": {},
   "source": [
    "Корреляция Пирсона между первой компонентой и инжексом Доу-Джонса."
   ]
  },
  {
   "cell_type": "code",
   "execution_count": 8,
   "metadata": {},
   "outputs": [
    {
     "data": {
      "text/html": [
       "<div>\n",
       "<style scoped>\n",
       "    .dataframe tbody tr th:only-of-type {\n",
       "        vertical-align: middle;\n",
       "    }\n",
       "\n",
       "    .dataframe tbody tr th {\n",
       "        vertical-align: top;\n",
       "    }\n",
       "\n",
       "    .dataframe thead th {\n",
       "        text-align: right;\n",
       "    }\n",
       "</style>\n",
       "<table border=\"1\" class=\"dataframe\">\n",
       "  <thead>\n",
       "    <tr style=\"text-align: right;\">\n",
       "      <th></th>\n",
       "      <th>open</th>\n",
       "      <th>high</th>\n",
       "      <th>low</th>\n",
       "      <th>close</th>\n",
       "    </tr>\n",
       "  </thead>\n",
       "  <tbody>\n",
       "    <tr>\n",
       "      <th>0</th>\n",
       "      <td>-0.529777</td>\n",
       "      <td>-0.529008</td>\n",
       "      <td>-0.530383</td>\n",
       "      <td>-0.530174</td>\n",
       "    </tr>\n",
       "  </tbody>\n",
       "</table>\n",
       "</div>"
      ],
      "text/plain": [
       "       open      high       low     close\n",
       "0 -0.529777 -0.529008 -0.530383 -0.530174"
      ]
     },
     "execution_count": 8,
     "metadata": {},
     "output_type": "execute_result"
    }
   ],
   "source": [
    "cols = [\"open\", \"high\", \"low\", \"close\"]\n",
    "pearsonData = [[np.corrcoef(pca_data[:, 0], data[col])[0, 1] for col in cols]]\n",
    "pd.DataFrame(data=pearsonData, columns=cols)"
   ]
  }
 ],
 "metadata": {
  "kernelspec": {
   "display_name": "Python 3",
   "language": "python",
   "name": "python3"
  },
  "language_info": {
   "codemirror_mode": {
    "name": "ipython",
    "version": 3
   },
   "file_extension": ".py",
   "mimetype": "text/x-python",
   "name": "python",
   "nbconvert_exporter": "python",
   "pygments_lexer": "ipython3",
   "version": "3.7.6"
  }
 },
 "nbformat": 4,
 "nbformat_minor": 2
}
